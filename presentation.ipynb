{
 "cells": [
  {
   "cell_type": "code",
   "execution_count": 3,
   "metadata": {
    "slideshow": {
     "slide_type": "notes"
    }
   },
   "outputs": [
    {
     "data": {
      "text/html": [
       "<style>.container { width:85% !important; }</style>"
      ],
      "text/plain": [
       "<IPython.core.display.HTML object>"
      ]
     },
     "metadata": {},
     "output_type": "display_data"
    }
   ],
   "source": [
    "from build_dictionary import tokenizer\n",
    "from get_data import GroupData, get_filename, get_data\n",
    "from analysis_query import spelling_correction, AugmentedQuery\n",
    "from get_simularity import Score\n",
    "from dp_similarity import SentenceTransformers\n",
    "from main import main\n",
    "import pandas as pd\n",
    "pd.set_option('display.width', 6000)\n",
    "\n",
    "import os\n",
    "os.environ[\"TOKENIZERS_PARALLELISM\"] = \"false\"\n",
    "import pickle\n",
    "\n",
    "import nltk\n",
    "# nltk.download('wordnet')\n",
    "import numpy as np\n",
    "\n",
    "from IPython.core.display import display, HTML\n",
    "display(HTML(\"<style>.container { width:85% !important; }</style>\"))"
   ]
  },
  {
   "cell_type": "markdown",
   "metadata": {
    "slideshow": {
     "slide_type": "slide"
    }
   },
   "source": [
    "# Outline\n",
    "* Explain the components and functions of the search engine\n",
    "* Demonstrate demos and test the speed of different cases\n",
    "* Discuss some possible future extensions"
   ]
  },
  {
   "cell_type": "markdown",
   "metadata": {
    "slideshow": {
     "slide_type": "slide"
    }
   },
   "source": [
    "# Components"
   ]
  },
  {
   "cell_type": "markdown",
   "metadata": {
    "slideshow": {
     "slide_type": "subslide"
    }
   },
   "source": [
    "## Data Loader - store each blog as objects"
   ]
  },
  {
   "cell_type": "code",
   "execution_count": 2,
   "metadata": {
    "slideshow": {
     "slide_type": "fragment"
    }
   },
   "outputs": [],
   "source": [
    "class GroupData:\n",
    "    def __init__(self, blog_id, user_id, gender, age, industry, astrology, date, post):\n",
    "        self.blog_id = blog_id\n",
    "        self.user_id = user_id\n",
    "        self.gender = gender\n",
    "        self.age = age\n",
    "        self.industry = industry\n",
    "        self.astrology = astrology\n",
    "        self.date = date\n",
    "        self.post = post"
   ]
  },
  {
   "cell_type": "code",
   "execution_count": 3,
   "metadata": {
    "slideshow": {
     "slide_type": "fragment"
    }
   },
   "outputs": [
    {
     "name": "stdout",
     "output_type": "stream",
     "text": [
      "Blog ID:\t\t 40 \n",
      "User ID:\t\t 3489929 \n",
      "User's Gender:\t\t female \n",
      "User's Age:\t\t 25 \n",
      "User's Industry:\t Student \n",
      "User's Astrology:\t Cancer \n",
      "Posting Date:\t\t 23,July,2004 \n",
      "Posted blog:\t\t urlLink        Why this is, I do not know. But, OK. \n",
      "\n"
     ]
    }
   ],
   "source": [
    "with open('./group_data_objects.pickle', 'rb') as f:\n",
    "    data_lists = pickle.load(f) # Read a pickle file\n",
    "\n",
    "    \n",
    "i = data_lists[40]\n",
    "print(\"Blog ID:\\t\\t\", i.blog_id, \"\\nUser ID:\\t\\t\", i.user_id,\n",
    "      \"\\nUser's Gender:\\t\\t\", i.gender, \"\\nUser's Age:\\t\\t\", i.age,\n",
    "      \"\\nUser's Industry:\\t\", i.industry, \"\\nUser's Astrology:\\t\", i.astrology,\n",
    "      \"\\nPosting Date:\\t\\t\", i.date, \"\\nPosted blog:\\t\\t\", i.post, '\\n')"
   ]
  },
  {
   "cell_type": "markdown",
   "metadata": {
    "slideshow": {
     "slide_type": "subslide"
    }
   },
   "source": [
    "## Vocaburary Dictionaries"
   ]
  },
  {
   "cell_type": "markdown",
   "metadata": {
    "slideshow": {
     "slide_type": "fragment"
    }
   },
   "source": [
    "#### 1) A Tokenizer - split paragraphs into a list with all the single tokens"
   ]
  },
  {
   "cell_type": "code",
   "execution_count": 4,
   "metadata": {
    "slideshow": {
     "slide_type": "fragment"
    }
   },
   "outputs": [
    {
     "name": "stdout",
     "output_type": "stream",
     "text": [
      "Tonkenized blog:\n",
      " ['why', 'this', 'be', ',', 'i', 'do', 'not', 'know', '.', 'but', ',', 'ok', '.']\n"
     ]
    }
   ],
   "source": [
    "blog = [\"Why this is, I do not know. But, OK.\"]\n",
    "tokenized_blog = tokenizer(blog)[0]  # spaCy\n",
    "print(\"Tonkenized blog:\\n\", tokenized_blog)"
   ]
  },
  {
   "cell_type": "markdown",
   "metadata": {
    "slideshow": {
     "slide_type": "subslide"
    }
   },
   "source": [
    "#### 2) Four Dictionaries"
   ]
  },
  {
   "cell_type": "markdown",
   "metadata": {
    "slideshow": {
     "slide_type": "fragment"
    }
   },
   "source": [
    "   * Vocaburary Dictionary:  {word &rarr; word frequency in the whole dataset}"
   ]
  },
  {
   "cell_type": "markdown",
   "metadata": {
    "slideshow": {
     "slide_type": "fragment"
    }
   },
   "source": [
    "   * Word-to-ID & ID-to-Word: {word &rarr; word's unique ID; wordword's unique ID &rarr; word}"
   ]
  },
  {
   "cell_type": "markdown",
   "metadata": {
    "slideshow": {
     "slide_type": "fragment"
    }
   },
   "source": [
    "   * Posting Lists: {word's upique ID &rarr; (blog ID, word frequence in this blog, Word frequency in the whole dataset)}"
   ]
  },
  {
   "cell_type": "code",
   "execution_count": 5,
   "metadata": {
    "slideshow": {
     "slide_type": "fragment"
    }
   },
   "outputs": [
    {
     "name": "stdout",
     "output_type": "stream",
     "text": [
      "5 samples of vocaburary dictionary:\n",
      " [('destiny', 1803), ('...', 1001878), ('hear', 36743), ('chosen', 3411), ('life', 167720)] \n",
      "\n",
      "5 samples of word to id:\n",
      " [('destiny', 0), ('...', 1), ('hear', 2), ('chosen', 3), ('life', 4)] \n",
      "\n",
      "5 samples of id to word:\n",
      " [(0, 'destiny'), (1, '...'), (2, 'hear'), (3, 'chosen'), (4, 'life')] \n",
      "\n",
      "5 samples of posting list:\n",
      " 0 [(0, 3, 169), (1, 1, 183), (213, 1, 866), (373, 1, 201), (591, 1, 247)] \n",
      "\n"
     ]
    }
   ],
   "source": [
    "voc_dic = pickle.load(open('voc_dic.pickle', 'rb'))\n",
    "print(\"5 samples of vocaburary dictionary:\\n\", list(voc_dic.items())[:5], \"\\n\")\n",
    "voc2id = pickle.load(open('voc2id.pickle', 'rb'))\n",
    "print(\"5 samples of word to id:\\n\", list(voc2id.items())[1:6], \"\\n\")\n",
    "id2voc = pickle.load(open('id2voc.pickle', 'rb'))\n",
    "print(\"5 samples of id to word:\\n\", list(id2voc.items())[:5], \"\\n\")\n",
    "posting_list = pickle.load(open('posting_list.pickle', 'rb'))\n",
    "first_posting_list = next(iter(posting_list.items()))\n",
    "print(\"5 samples of posting list:\\n\", first_posting_list[0], first_posting_list[1][0:5],\"\\n\")"
   ]
  },
  {
   "cell_type": "markdown",
   "metadata": {
    "slideshow": {
     "slide_type": "subslide"
    }
   },
   "source": [
    "## Query Pre-processors"
   ]
  },
  {
   "cell_type": "markdown",
   "metadata": {
    "slideshow": {
     "slide_type": "fragment"
    }
   },
   "source": [
    "#### 1) A Tokenizer\n",
    "  * Recognize name entity"
   ]
  },
  {
   "cell_type": "code",
   "execution_count": 6,
   "metadata": {
    "slideshow": {
     "slide_type": "fragment"
    }
   },
   "outputs": [
    {
     "name": "stdout",
     "output_type": "stream",
     "text": [
      "['who', 'be', 'not', 'happy', 'in', 'new york']\n"
     ]
    }
   ],
   "source": [
    "query = [\"who is not happy in New York\"]\n",
    "tokenized_query = tokenizer(query)[0]  # spaCy\n",
    "print(tokenized_query)"
   ]
  },
  {
   "cell_type": "markdown",
   "metadata": {
    "slideshow": {
     "slide_type": "fragment"
    }
   },
   "source": [
    "#### 2) Spelling Correction (demonstrated in the demo)"
   ]
  },
  {
   "cell_type": "markdown",
   "metadata": {
    "slideshow": {
     "slide_type": "fragment"
    }
   },
   "source": [
    "#### 3) Augmentation"
   ]
  },
  {
   "cell_type": "markdown",
   "metadata": {
    "slideshow": {
     "slide_type": "fragment"
    }
   },
   "source": [
    "  * Motivation\n",
    "       * even if some blogs do not contain the excatly keywords in the query,  the system can still consider them to be relevant based on the added augmentation data"
   ]
  },
  {
   "cell_type": "markdown",
   "metadata": {
    "slideshow": {
     "slide_type": "fragment"
    }
   },
   "source": [
    "  * Presupposition\n",
    "       * even if a blog does not contain the excatly keywords in the query, if it contains many semantically related words to the keywords, we can assume that the blog is probably relevant in some way"
   ]
  },
  {
   "cell_type": "markdown",
   "metadata": {
    "slideshow": {
     "slide_type": "subslide"
    }
   },
   "source": [
    "  * Steps 1\n",
    "    * if negation marker \"not\" or \"n't\" appears, get the antonyms of the token being modified\n",
    "    * remove the phrase including \"not\" (eg. \"not happy\")\n",
    "    * add antonyms to the query token list"
   ]
  },
  {
   "cell_type": "code",
   "execution_count": 6,
   "metadata": {
    "slideshow": {
     "slide_type": "fragment"
    }
   },
   "outputs": [],
   "source": [
    "query = [\"who is not happy in New York\"]\n",
    "tokenized_query = tokenizer(query)[0]  # spaCy\n",
    "augm_q = AugmentedQuery(tokenized_query)\n",
    "augment_obj = augm_q.augment_query()"
   ]
  },
  {
   "cell_type": "code",
   "execution_count": 7,
   "metadata": {
    "slideshow": {
     "slide_type": "fragment"
    }
   },
   "outputs": [
    {
     "name": "stdout",
     "output_type": "stream",
     "text": [
      "Original Query:\n",
      " ['who', 'be', 'not', 'happy', 'in', 'new york']\n",
      "Antonyms of 'happy':\n",
      " {'unhappy'}\n",
      "Deleted 'not' phrase:\n",
      " ['who', 'be', 'in', 'new york']\n",
      "Revised Query:\n",
      " ['who', 'be', 'in', 'new york', 'unhappy']\n"
     ]
    }
   ],
   "source": [
    "print(\"Original Query:\\n\", tokenized_query)\n",
    "print(\"Antonyms of 'happy':\\n\", augment_obj.antonyms_set)\n",
    "for token in augment_obj.delete_set:\n",
    "   tokenized_query.remove(token)\n",
    "print(\"Deleted 'not' phrase:\\n\", tokenized_query)\n",
    "tokenized_query += list(augment_obj.antonyms_set)\n",
    "print(\"Revised Query:\\n\", tokenized_query)"
   ]
  },
  {
   "cell_type": "markdown",
   "metadata": {
    "slideshow": {
     "slide_type": "subslide"
    }
   },
   "source": [
    "  * Steps 2\n",
    "     * Get each token(except stopwords)'s synonyms, definition of synonyms, hyponyms, hypernyms\n",
    "     * Put them in a set as related words"
   ]
  },
  {
   "cell_type": "code",
   "execution_count": 9,
   "metadata": {
    "slideshow": {
     "slide_type": "fragment"
    }
   },
   "outputs": [
    {
     "name": "stdout",
     "output_type": "stream",
     "text": [
      "Synonyms: {'New York State', 'Empire State', 'New York City', 'Greater New York', 'New York', 'NY'} \n",
      "\n",
      "Definition of Synonyms: {'city', 'locate', 'colony', 'new', '13', 'southeastern', 'york', 'original', 'mouth', 'state', 'form', 'major', 'mid', 'large', 'river', 'center', 'cultural', 'hudson', 'financial', 'british', 'united'} \n",
      "\n",
      "Hyponyms: set() \n",
      "\n",
      "Hypernyms: set() \n",
      "\n",
      "Related Words: ['city', 'locate', 'New York City', 'colony', 'new', '13', 'southeastern', 'york', 'Empire State', 'NY', 'original', 'New York State', 'mouth', 'state', 'form', 'Greater New York', 'New York', 'major', 'mid', 'large', 'river', 'cultural', 'hudson', 'financial', 'center', 'british', 'united']\n"
     ]
    }
   ],
   "source": [
    "print(\"Synonyms:\", augment_obj.synonyms_set, '\\n')\n",
    "print(\"Definition of Synonyms:\", augment_obj.definition_set, '\\n')\n",
    "print(\"Hyponyms:\", augment_obj.hyponyms_set, '\\n')\n",
    "print(\"Hypernyms:\", augment_obj.hypernyms_set, '\\n')\n",
    "related_words = list(augment_obj.synonyms_set|augment_obj.definition_set|augment_obj.hyponyms_set|augment_obj.hypernyms_set)\n",
    "print(\"Related Words:\", related_words)"
   ]
  },
  {
   "cell_type": "markdown",
   "metadata": {
    "slideshow": {
     "slide_type": "subslide"
    }
   },
   "source": [
    "  * another example to show what is hypernyms and hyponyms"
   ]
  },
  {
   "cell_type": "markdown",
   "metadata": {
    "slideshow": {
     "slide_type": "fragment"
    }
   },
   "source": [
    "<img style=\"float: center;\" src=\"https://upload.wikimedia.org/wikipedia/commons/thumb/b/b4/Hyponym_and_hypernym.svg/1200px-Hyponym_and_hypernym.svg.png\" width=\"70%\"> "
   ]
  },
  {
   "cell_type": "code",
   "execution_count": 10,
   "metadata": {
    "slideshow": {
     "slide_type": "fragment"
    }
   },
   "outputs": [
    {
     "name": "stdout",
     "output_type": "stream",
     "text": [
      "Hypernyms:  \n",
      " {'nobility', 'color', 'colorise', 'discolor', 'colour in', 'colourise', 'noblesse', 'discolour', 'colorize', 'chromatic colour', 'colourize', 'color in', 'colour', 'spectral color', 'chromatic color', 'spectral colour'} \n",
      "\n",
      "Hyponyms:  \n",
      " {'lavender', 'reddish purple', 'violet', 'mauve', 'royal purple', 'reddish blue'}\n"
     ]
    }
   ],
   "source": [
    "query = ['purple']\n",
    "augmented_q = AugmentedQuery(query)\n",
    "augment_obj = augmented_q.augment_query()\n",
    "print(\"Hypernyms: \", '\\n', augment_obj.hypernyms_set, '\\n')\n",
    "print(\"Hyponyms: \", '\\n', augment_obj.hyponyms_set)"
   ]
  },
  {
   "cell_type": "markdown",
   "metadata": {
    "slideshow": {
     "slide_type": "subslide"
    }
   },
   "source": [
    "## Computing Similarity"
   ]
  },
  {
   "cell_type": "markdown",
   "metadata": {
    "slideshow": {
     "slide_type": "fragment"
    }
   },
   "source": [
    "#### 1) TF-IDF (first rank)\n",
    "  * Score each blog that contains at least one target word \n",
    "    * create a dictionary for each query\n",
    "    * take the blog ID containing the target word as the keyword\n",
    "    * add up the tf-idf scores for each contained target word as the value\n",
    "    * rank the blogs by score"
   ]
  },
  {
   "cell_type": "code",
   "execution_count": 11,
   "metadata": {
    "slideshow": {
     "slide_type": "fragment"
    }
   },
   "outputs": [
    {
     "name": "stdout",
     "output_type": "stream",
     "text": [
      "Revised Query: ['who', 'be', 'in', 'new york', 'unhappy']\n",
      "Related Words: ['city', 'locate', 'New York City', 'colony', 'new', '13', 'southeastern', 'york', 'Empire State', 'NY', 'original', 'New York State', 'mouth', 'state', 'form', 'Greater New York', 'New York', 'major', 'mid', 'large', 'river', 'cultural', 'hudson', 'financial', 'center', 'british', 'united']\n"
     ]
    }
   ],
   "source": [
    "print(\"Revised Query:\", tokenized_query)\n",
    "print(\"Related Words:\", related_words)"
   ]
  },
  {
   "cell_type": "markdown",
   "metadata": {
    "slideshow": {
     "slide_type": "fragment"
    }
   },
   "source": [
    "* The words in the 'Revised Query' and 'Related Words' are both considered as target word\n",
    "* The TF-IDF score for each 'Related Words' was multiplied by 0.2, as it was considered less important than the query word"
   ]
  },
  {
   "cell_type": "markdown",
   "metadata": {
    "slideshow": {
     "slide_type": "subslide"
    }
   },
   "source": [
    "#### 2) Embeddings (re-rank)\n",
    "  * Motivation\n",
    "      * the ranking results according to tf-idf scores are influenced by the scope of the blog content covered\n",
    "      * after testing, the high scoring results include exam papers and questionnaires\n",
    "  * Presupposition\n",
    "      * using a pre-trained language model to obtain sentence embeddings and calculating cosine similarity scores for queries and each blog may help to obtain semantically more relevant results\n",
    "  * Pre-trained language model: MiniLM"
   ]
  },
  {
   "cell_type": "markdown",
   "metadata": {
    "slideshow": {
     "slide_type": "slide"
    }
   },
   "source": [
    "# Demos"
   ]
  },
  {
   "cell_type": "markdown",
   "metadata": {
    "slideshow": {
     "slide_type": "fragment"
    }
   },
   "source": [
    "## Regular Search"
   ]
  },
  {
   "cell_type": "code",
   "execution_count": 2,
   "metadata": {
    "scrolled": true,
    "slideshow": {
     "slide_type": "notes"
    }
   },
   "outputs": [
    {
     "name": "stdout",
     "output_type": "stream",
     "text": [
      "Query example:\n",
      "\n",
      " #1 New York \t(Sensitive to named entities)\n",
      " #2 I'm not happy \t(Understand adjective phrases modified by 'not')\n",
      " #3 apple slow \t(Ambiguity)\n",
      " #4 apple pie \t(Ambiguity)\n",
      " #5 Americam \t(Auto correct typo)\n",
      "\n",
      "What do you search for:\n",
      "New York\n",
      "\n",
      "Loading...\n",
      "Ranking...\n",
      "Ready to return results...\n",
      "Running time:  18.23 s\n",
      "\n",
      "       Score                                               Post              Date  Blog ID  User ID  Gender Age              Industry    Astrology\n",
      "0   0.806208                                    before new york    01,August,2004   354351  1499735  female  24                indUnk       Pisces\n",
      "1   0.699530                                 New York   urlLink      08,July,2004   208066  3586075    male  46                indUnk        Virgo\n",
      "2   0.645598  New York as told by ME   Here's the  urlLink p...    04,August,2004    64234   946952  female  25             Education          Leo\n",
      "3   0.617351  This is the weather page for the part of New Y...     09,March,2004   394008  2420099    male  25    Telecommunications       Pisces\n",
      "4   0.614674                      DAMN!!! I MISS NEW YORK...:-(      20,June,2004    72249  3165287    male  17               Student     Aquarius\n",
      "5   0.583964  Here are pictures from my New York vacation!!!...    15,August,2004   607243  4198156  female  25            Non-Profit    Capricorn\n",
      "6   0.574166               urlLink New York, the adventure-game    03,August,2004   143456    75671    male  36           Engineering        Aries\n",
      "7   0.570343                     urlLink Why I left New York...   29,January,2004   133608  1308868    male  26  Communications-Media       Cancer\n",
      "8   0.541975                        Isn't she in New York, Mir?    05,August,2004   232991   589736    male  35            Technology        Aries\n",
      "9   0.541975                        Isn't she in New York, Mir?    10,August,2004   157542  1975546  female  23                indUnk        Aries\n",
      "10  0.541975                        Isn't she in New York, Mir?    03,August,2004     3125   734562  female  24                  Arts        Libra\n",
      "11  0.541869  I'm back from my first TDY to New York.   urlL...    09,August,2004   575781  3857049  female  23                indUnk          Leo\n",
      "12  0.541392                                                New  06,November,2003    53264  1842049  female  24                indUnk     Aquarius\n",
      "13  0.541392                                                new      17,June,2004   588178  1407084    male  17               Student          Leo\n",
      "14  0.541392                                                new  08,November,2003   478333  1957684    male  23              Military    Capricorn\n",
      "15  0.538649  A PUP'S-EYE VIEW OF 1OTH AVENUE   Chicago's go...      11,July,2004   163316  1274564  female  40              Internet  Sagittarius\n",
      "16  0.537775  New York, I keep telling myself that I have to...    16,August,2004   280216  4248403    male  27                indUnk       Cancer\n",
      "17  0.537624  Goodbye for now. I will be in New York til Sat...   18,October,2000    27882    49663    male  33                indUnk       Taurus\n",
      "18  0.527079  New York, New York.  Well, the girls and I are...  25,February,2003   338232   476271  female  25            Publishing       Pisces\n",
      "19  0.525457  Yes Nikki, we all know what you are talking ab...      18,July,2003    10961   944569  female  14               Student          Leo\n",
      "\n",
      "Which blog post would you like to see in full content? [number/n]\n",
      "16\n",
      "Full content of blog post  16 :\n",
      " New York, I keep telling myself that I have to leave before I start to like the place.\n",
      "\n",
      "Which blog post would you like to see in full content? [number/n]\n",
      "n\n",
      "\n",
      "What do you search for:\n",
      "nothing\n"
     ]
    }
   ],
   "source": [
    "main() # New York"
   ]
  },
  {
   "cell_type": "markdown",
   "metadata": {
    "slideshow": {
     "slide_type": "fragment"
    }
   },
   "source": [
    "## Ambiguous Words"
   ]
  },
  {
   "cell_type": "code",
   "execution_count": 3,
   "metadata": {
    "scrolled": true,
    "slideshow": {
     "slide_type": "notes"
    }
   },
   "outputs": [
    {
     "name": "stdout",
     "output_type": "stream",
     "text": [
      "Query example:\n",
      "\n",
      " #1 New York \t(Sensitive to named entities)\n",
      " #2 I'm not happy \t(Understand adjective phrases modified by 'not')\n",
      " #3 apple slow \t(Ambiguity)\n",
      " #4 apple pie \t(Ambiguity)\n",
      " #5 Americam \t(Auto correct typo)\n",
      "\n",
      "What do you search for:\n",
      "apple slow\n",
      "\n",
      "Loading...\n",
      "Ranking...\n",
      "Ready to return results...\n",
      "Running time:  19.453 s\n",
      "\n",
      "       Score                                               Post               Date  Blog ID  User ID  Gender Age    Industry    Astrology\n",
      "0   0.598414                                       mmm...apple.  08,September,2003   619870   955372  female  16     Student        Aries\n",
      "1   0.548954  urlLink Technology Special Report: The Future ...    24,January,2002   549643   320317    male  36  Technology       Pisces\n",
      "2   0.524693  urlLink ZDNet: Story: Will Microsoft pull the ...    28,January,2002   549634   320317    male  36  Technology       Pisces\n",
      "3   0.524136  Apple may come out with a new display.  This p...      17,March,2004   146994  2389810    male  23     Student        Aries\n",
      "4   0.513531  urlLink Apple brings Power Macs up to speed - ...    28,January,2002   549635   320317    male  36  Technology       Pisces\n",
      "5   0.504086                          (see the lyrics to apple)     02,August,2004   434752   683127    male  27        Arts      Scorpio\n",
      "6   0.477063                      cherries 3/4 apple jamba 16oz        15,May,2004   408156   235374    male  27  Technology       Taurus\n",
      "7   0.469613  urlLink BW Online: Apple's Hot New Market: PC ...      15,April,2002   549811   320317    male  36  Technology       Pisces\n",
      "8   0.458716  An apple a day keeps the doctor away, but if h...       24,June,2004   421506  3592122  female  16     Student       Gemini\n",
      "9   0.448029  what winks and processes data like a tiger?  A...        04,May,2004   540429  1826362    male  27     Student     Aquarius\n",
      "10  0.444256     EBay is slow this week 11 auctions and no bids       12,June,2004   498225  3607330    male  39      indUnk          Leo\n",
      "11  0.438270                         Dang this page loads slow.        30,May,2004   125209   303162  female  38      indUnk        Virgo\n",
      "12  0.434922                    urlLink BW Online: PC to Apple?      15,April,2002   549813   320317    male  36  Technology       Pisces\n",
      "13  0.425685                            Let's take it slow, OK?     16,August,2004   319341  4257755  female  23  Government        Virgo\n",
      "14  0.419096  At the time of this post Apple iTunes has sold...       08,July,2004   363121  3828283    male  14      indUnk       Cancer\n",
      "15  0.411123  Praise Allah!  Apple is finally going to use  ...   01,November,2000   242410    24336    male  24  Technology          Leo\n",
      "16  0.407925  urlLink New iMac lifts Apple's market position...      26,April,2002   549796   320317    male  36  Technology       Pisces\n",
      "17  0.403473                        good god Boy George is slow       01,July,2003   619687   955372  female  16     Student        Aries\n",
      "18  0.400297  BUT THEN GIAMBI GROUNDS INTO A DOUBLE PLAY. So...      19,April,2004   206937  2134421    male  23      indUnk  Sagittarius\n",
      "19  0.395499  apple head lines under m3s on a major electron...    25,October,2003   401815   994616    male  17     Student        Libra\n",
      "\n",
      "Which blog post would you like to see in full content? [number/n]\n",
      "8\n",
      "Full content of blog post  8 :\n",
      " An apple a day keeps the doctor away, but if hes cute scru the fruit!\n",
      "\n",
      "Which blog post would you like to see in full content? [number/n]\n",
      "9\n",
      "Full content of blog post  9 :\n",
      " what winks and processes data like a tiger?  Answer:  urlLink apple's new OS\n",
      "\n",
      "Which blog post would you like to see in full content? [number/n]\n",
      "n\n",
      "\n",
      "What do you search for:\n",
      "nothing\n"
     ]
    }
   ],
   "source": [
    "main() # apple slow"
   ]
  },
  {
   "cell_type": "code",
   "execution_count": 6,
   "metadata": {
    "scrolled": true,
    "slideshow": {
     "slide_type": "notes"
    }
   },
   "outputs": [
    {
     "name": "stdout",
     "output_type": "stream",
     "text": [
      "Query example:\n",
      "\n",
      " #1 New York \t(Sensitive to named entities)\n",
      " #2 I'm not happy \t(Understand adjective phrases modified by 'not')\n",
      " #3 apple slow \t(Ambiguity)\n",
      " #4 apple pie \t(Ambiguity)\n",
      " #5 Americam \t(Auto correct typo)\n",
      "\n",
      "What do you search for:\n",
      "apple pie\n",
      "\n",
      "Loading...\n",
      "Ranking...\n",
      "Ready to return results...\n",
      "Running time:  16.009 s\n",
      "\n",
      "       Score                                               Post               Date  Blog ID  User ID  Gender Age      Industry    Astrology\n",
      "0   0.769318                                               pie.       22,June,2004    49573  3716795    male  16        indUnk  Sagittarius\n",
      "1   0.695093  pie, as in, the actual, sugary, tasty, pastry ...    28,October,2003   149578   925742    male  16       Student       Gemini\n",
      "2   0.640217                                           heha pie   25,February,2004   607885  2543884    male  13        indUnk       Pisces\n",
      "3   0.640217                                           heha pie   25,February,2004   219908  3762737  female  13        indUnk     Aquarius\n",
      "4   0.625188                                       mmm...apple.  08,September,2003   619870   955372  female  16       Student        Aries\n",
      "5   0.616281                                          ...pie...       01,June,2004   531379   106651    male  25        indUnk          Leo\n",
      "6   0.583230  Pie   Ladies and Gentlemen:   The  urlLink Ame...  15,September,2003   384796  1428880    male  27        indUnk     Aquarius\n",
      "7   0.569566  David and I making pie last night  urlLink    ...     08,August,2004   263273  3982853  female  34       Student       Cancer\n",
      "8   0.568080     Hey, I'm baking a pie for school, gotta go bye        18,May,2004   530768  1963555  female  14       Student      Scorpio\n",
      "9   0.553455  the other half of yesterday's apple pie bagel ...   23,December,2002   438527  1209865  female  33  Architecture        Virgo\n",
      "10  0.553455  the other half of yesterday's apple pie bagel ...   23,December,2002    19402  1689280  female  27        indUnk          Leo\n",
      "11  0.536880      floor pie > pun pie > humble pie.  -Phil out.      09,March,2003   112461  1144172    male  17        indUnk        Libra\n",
      "12  0.526090  urlLink     find your inner PIE @ stvlive.com ...       31,July,2004   252551  3671726  female  33        indUnk       Gemini\n",
      "13  0.521341  Bite me. ...  Osobuko does not look like a pie...   23,November,2003    11384   944569  female  14       Student          Leo\n",
      "14  0.517146                                 Make pie, not war.        26,May,2004   358424  1960525    male  15       Student        Libra\n",
      "15  0.517146                                 Make pie, not war.        26,May,2004   350950  3344459    male  15        indUnk        Aries\n",
      "16  0.517146                                 Make pie, not war.        26,May,2004   648531  1609589    male  16       Student    Capricorn\n",
      "17  0.515705  cored apple, cut apple into slices. cut some c...   22,December,2002    19410  1689280  female  27        indUnk          Leo\n",
      "18  0.515705  cored apple, cut apple into slices. cut some c...   22,December,2002   438535  1209865  female  33  Architecture        Virgo\n",
      "19  0.503270  urlLink    Hannan and Becky enjoying the Pie a...     09,August,2004   110097  3451935    male  17       Banking        Aries\n",
      "\n",
      "Which blog post would you like to see in full content? [number/n]\n",
      "9\n",
      "Full content of blog post  9 :\n",
      " the other half of yesterday's apple pie bagel more generic cream cheese more coffee\n",
      "\n",
      "Which blog post would you like to see in full content? [number/n]\n",
      "n\n",
      "\n",
      "What do you search for:\n",
      "nothing\n"
     ]
    }
   ],
   "source": [
    "main() # apple pie"
   ]
  },
  {
   "cell_type": "markdown",
   "metadata": {
    "slideshow": {
     "slide_type": "fragment"
    }
   },
   "source": [
    "## Typo"
   ]
  },
  {
   "cell_type": "code",
   "execution_count": 5,
   "metadata": {
    "scrolled": true,
    "slideshow": {
     "slide_type": "notes"
    }
   },
   "outputs": [
    {
     "name": "stdout",
     "output_type": "stream",
     "text": [
      "Query example:\n",
      "\n",
      " #1 New York \t(Sensitive to named entities)\n",
      " #2 I'm not happy \t(Understand adjective phrases modified by 'not')\n",
      " #3 apple slow \t(Ambiguity)\n",
      " #4 apple pie \t(Ambiguity)\n",
      " #5 Americam \t(Auto correct typo)\n",
      "\n",
      "What do you search for:\n",
      "Americam\n",
      "\n",
      "Loading...\n",
      "Do you mean \"american\"?\n",
      "Yes, No, or Additional options required? [y/n/a]\n",
      "a\n",
      "{0: ['americas'], 1: ['american'], 2: ['america']}\n",
      "choose one candidates or keep the original? [number/o]\n",
      "2\n",
      "Ranking...\n",
      "Ready to return results...\n",
      "Running time:  20.424 s\n",
      "\n",
      "       Score                                               Post            Date  Blog ID  User ID  Gender Age              Industry    Astrology\n",
      "0   0.635265                  The world according to America...  09,August,2004   415066   894945    male  27            Technology       Cancer\n",
      "1   0.635265                  The world according to America...    28,June,2004   101595   705633    male  27            Technology       Gemini\n",
      "2   0.630302                                 God Bless America.    04,July,2004   137081   671748    male  27  Communications-Media        Aries\n",
      "3   0.617592                           What exactly is America?     25,May,2004   561014  3297447    male  24     Museums-Libraries        Libra\n",
      "4   0.592779                       urlLink    God Bless America    28,July,2004   396693  4063865    male  24          Construction        Virgo\n",
      "5   0.509472                  urlLink    america, the beautiful    22,July,2004   570381  2047544  female  23            Technology       Gemini\n",
      "6   0.465406          urlLink         Our Heroes America's Best  06,August,2004   344289  3909877    male  26           Engineering       Cancer\n",
      "7   0.442072               urlLink Ronnie James Dio for America    28,June,2004   132790  3705998    male  37                indUnk  Sagittarius\n",
      "8   0.436458       South Park + SuperMarionation = Team America    21,July,2004   343295    67459    male  34                  Arts    Capricorn\n",
      "9   0.419910  Take back american Conference link   http://ww...    11,June,2003   397933  1449141    male  43             Education     Aquarius\n",
      "10  0.400802               urlLink    MEET MS. AMERICA  urlLink  03,August,2004   127170  2822042  female  47                  Arts       Taurus\n",
      "11  0.393067                              REAL AMERICAN HEROISM   01,April,2004   370145  1296081  female  45            Technology        Virgo\n",
      "12  0.378114                         urlLink    American Cancel    27,July,2004   105736  1076363    male  40  Communications-Media       Pisces\n",
      "13  0.375034                      urlLink God's American Israel    08,July,2004   615143  3336876  female  37            Non-Profit      Scorpio\n",
      "14  0.372390                              DR SUESS SEES AMERICA   03,April,2004   370144  1296081  female  45            Technology        Virgo\n",
      "15  0.369211             urlLink    American exchange students.    26,June,2004   334906  3748818  female  16      BusinessServices       Cancer\n",
      "16  0.360014            urlLink        America's Young Warriors    30,July,2004   344141  3909877    male  26           Engineering       Cancer\n",
      "17  0.350966  urlLink Scientific American: longest running s...  02,August,2004   563901   576311  female  34                indUnk    Capricorn\n",
      "18  0.350850              Someone posted this at Free Republic.  20,August,2004   353989  4208516    male  35            Publishing       Taurus\n",
      "19  0.344763   urlLink    Me checking out the Pacific.  urlLink     30,May,2004   388255  3481866  female  23           Engineering       Pisces\n",
      "\n",
      "Which blog post would you like to see in full content? [number/n]\n",
      "18\n",
      "Full content of blog post  18 :\n",
      " Someone posted this at Free Republic.\n",
      "\n",
      "Which blog post would you like to see in full content? [number/n]\n",
      "n\n",
      "\n",
      "What do you search for:\n",
      "nothing\n"
     ]
    }
   ],
   "source": [
    "main() # Americam"
   ]
  },
  {
   "cell_type": "code",
   "execution_count": 10,
   "metadata": {
    "slideshow": {
     "slide_type": "notes"
    }
   },
   "outputs": [
    {
     "name": "stdout",
     "output_type": "stream",
     "text": [
      "Synonyms: {'US', 'America', 'United States', 'United States of America', 'USA', 'the States', 'U.S.', 'U.S.A.'} \n",
      "\n",
      "Definition of Synonyms: {'independence', 'island', 'central', '1776', 'northwest', 'north', 'plus', 'achieve', 'south', '50', 'america', 'state', 'conterminous', 'contain', 'alaska', '-', 'pacific', 'american', 'ocean', 'republic', 'hawaiian', '48'} \n",
      "\n",
      "Hyponyms: set() \n",
      "\n",
      "Hypernyms: set() \n",
      "\n"
     ]
    }
   ],
   "source": [
    "tokenized_query = ['america']\n",
    "augm_q = AugmentedQuery(tokenized_query)\n",
    "augment_obj = augm_q.augment_query()\n",
    "print(\"Synonyms:\", augment_obj.synonyms_set, '\\n')\n",
    "print(\"Definition of Synonyms:\", augment_obj.definition_set, '\\n')\n",
    "print(\"Hyponyms:\", augment_obj.hyponyms_set, '\\n')\n",
    "print(\"Hypernyms:\", augment_obj.hypernyms_set, '\\n')"
   ]
  },
  {
   "cell_type": "markdown",
   "metadata": {
    "slideshow": {
     "slide_type": "slide"
    }
   },
   "source": [
    "# Extentions"
   ]
  },
  {
   "cell_type": "markdown",
   "metadata": {
    "slideshow": {
     "slide_type": "fragment"
    }
   },
   "source": [
    "## Knowledge Graphs\n"
   ]
  },
  {
   "cell_type": "markdown",
   "metadata": {
    "slideshow": {
     "slide_type": "fragment"
    }
   },
   "source": [
    "### Disambiguate\n",
    "  * e.g. DBpedia dbo:wikiPageDisambiguates"
   ]
  },
  {
   "cell_type": "markdown",
   "metadata": {
    "slideshow": {
     "slide_type": "fragment"
    }
   },
   "source": [
    "### Search for semantically relevant concepts and entities"
   ]
  },
  {
   "cell_type": "code",
   "execution_count": 5,
   "metadata": {
    "slideshow": {
     "slide_type": "notes"
    }
   },
   "outputs": [],
   "source": [
    "from normalize_uris import normalize_uris\n",
    "from query_dbpedia import query\n",
    "\n",
    "def describe_resource(in_data):\n",
    "    uri = normalize_uris(in_data)\n",
    "    q1 = \"PREFIX rdf: <http://www.w3.org/1999/02/22-rdf-syntax-ns#> SELECT ?types WHERE { <\" + uri + \"> rdf:type ?types}\"\n",
    "    results1 = query(q1)\n",
    "\n",
    "    types = 'all the types: \\n'\n",
    "    for result in results1[\"results\"][\"bindings\"]:\n",
    "        types += result[\"types\"][\"value\"] + '\\n'\n",
    "\n",
    "    q2 = \"SELECT DISTINCT ?property WHERE { <\" + uri + \"> ?property ?value .}\"\n",
    "    # FILTER (!isLiteral(?property))\n",
    "    #q2 = \"SELECT DISTINCT ?property WHERE { <\" + uri + \"> ?property ?value .}\"\n",
    "    results2 = query(q2)\n",
    "\n",
    "    distinct = \"all the distinct properties: \\n\"\n",
    "    for result in results2[\"results\"][\"bindings\"]:\n",
    "        distinct += result[\"property\"][\"value\"] + '\\n'\n",
    "\n",
    "    return types + distinct"
   ]
  },
  {
   "cell_type": "code",
   "execution_count": 12,
   "metadata": {
    "scrolled": true,
    "slideshow": {
     "slide_type": "notes"
    }
   },
   "outputs": [
    {
     "name": "stdout",
     "output_type": "stream",
     "text": [
      "all the types: \n",
      "http://www.w3.org/2002/07/owl#Thing\n",
      "http://dbpedia.org/ontology/Place\n",
      "http://dbpedia.org/ontology/Location\n",
      "http://www.w3.org/2003/01/geo/wgs84_pos#SpatialThing\n",
      "http://dbpedia.org/class/yago/Object100002684\n",
      "http://dbpedia.org/class/yago/Organization108008335\n",
      "http://dbpedia.org/class/yago/PhysicalEntity100001930\n",
      "http://dbpedia.org/class/yago/Region108630985\n",
      "http://dbpedia.org/class/yago/School108276720\n",
      "http://dbpedia.org/class/yago/Seat108647945\n",
      "http://dbpedia.org/class/yago/SecondarySchool108284481\n",
      "http://dbpedia.org/class/yago/Site108651247\n",
      "http://dbpedia.org/class/yago/SocialGroup107950920\n",
      "http://dbpedia.org/class/yago/StateCapital108695539\n",
      "http://dbpedia.org/class/yago/Tract108673395\n",
      "http://dbpedia.org/class/yago/UrbanArea108675967\n",
      "http://dbpedia.org/class/yago/WikicatPopulatedCoastalPlacesInNewYork\n",
      "http://dbpedia.org/class/yago/WikicatPopulatedPlacesEstablishedIn1624\n",
      "http://dbpedia.org/class/yago/WikicatPopulatedPlacesOnTheHudsonRiver\n",
      "http://dbpedia.org/class/yago/WikicatPortCities\n",
      "http://dbpedia.org/class/yago/WikicatPortCitiesAndTownsOfTheUnitedStatesAtlanticCoast\n",
      "http://dbpedia.org/class/yago/WikicatPublicMiddleSchoolsInNewYorkCity\n",
      "http://dbpedia.org/class/yago/YagoGeoEntity\n",
      "http://dbpedia.org/class/yago/YagoLegalActor\n",
      "http://dbpedia.org/class/yago/YagoLegalActorGeo\n",
      "http://dbpedia.org/class/yago/YagoPermanentlyLocatedEntity\n",
      "http://dbpedia.org/class/yago/WikicatMagnetSchoolsInNewYork\n",
      "http://dbpedia.org/class/yago/WikicatMetropolitanAreasOfNewYork\n",
      "http://dbpedia.org/class/yago/WikicatMetropolitanAreasOfTheUnitedStates\n",
      "http://dbpedia.org/class/yago/WikicatStatesOfTheUnitedStates\n",
      "http://schema.org/City\n",
      "http://schema.org/Place\n",
      "http://www.wikidata.org/entity/Q486972\n",
      "http://www.wikidata.org/entity/Q515\n",
      "http://dbpedia.org/class/yago/WikicatCitiesInNewYork\n",
      "http://dbpedia.org/class/yago/WikicatCitiesInTheNewYorkMetropolitanArea\n",
      "http://dbpedia.org/class/yago/WikicatCitiesWithMillionsOfInhabitants\n",
      "http://dbpedia.org/class/yago/WikicatEducationalInstitutionsEstablishedIn1982\n",
      "http://dbpedia.org/class/yago/WikicatFormerCapitalsOfTheUnitedStates\n",
      "http://dbpedia.org/class/yago/WikicatFormerUnitedStatesStateCapitals\n",
      "http://dbpedia.org/class/yago/WikicatSchoolsInManhattan\n",
      "http://dbpedia.org/ontology/City\n",
      "http://dbpedia.org/ontology/Settlement\n",
      "http://dbpedia.org/ontology/PopulatedPlace\n",
      "http://dbpedia.org/class/yago/Abstraction100002137\n",
      "http://dbpedia.org/class/yago/AdministrativeDistrict108491826\n",
      "http://dbpedia.org/class/yago/Area108497294\n",
      "http://dbpedia.org/class/yago/Capital108518505\n",
      "http://dbpedia.org/class/yago/Center108523483\n",
      "http://dbpedia.org/class/yago/City108524735\n",
      "http://dbpedia.org/class/yago/District108552138\n",
      "http://dbpedia.org/class/yago/EducationalInstitution108276342\n",
      "http://dbpedia.org/class/yago/GeographicalArea108574314\n",
      "http://dbpedia.org/class/yago/Group100031264\n",
      "http://dbpedia.org/class/yago/Institution108053576\n",
      "http://dbpedia.org/class/yago/Location100027167\n",
      "http://dbpedia.org/class/yago/Municipality108626283\n",
      "http://dbpedia.org/class/yago/WikicatNortheasternUnitedStates\n",
      "http://umbel.org/umbel/rc/City\n",
      "http://umbel.org/umbel/rc/Location_Underspecified\n",
      "http://umbel.org/umbel/rc/PopulatedPlace\n",
      "http://umbel.org/umbel/rc/Village\n",
      "all the distinct properties: \n",
      "http://www.w3.org/1999/02/22-rdf-syntax-ns#type\n",
      "http://www.w3.org/2000/01/rdf-schema#label\n",
      "http://www.w3.org/2000/01/rdf-schema#comment\n",
      "http://www.w3.org/2000/01/rdf-schema#seeAlso\n",
      "http://xmlns.com/foaf/0.1/name\n",
      "http://xmlns.com/foaf/0.1/nick\n",
      "http://xmlns.com/foaf/0.1/homepage\n",
      "http://www.w3.org/2004/02/skos/core#exactMatch\n",
      "http://dbpedia.org/property/name\n",
      "http://www.w3.org/2003/01/geo/wgs84_pos#lat\n",
      "http://www.w3.org/2003/01/geo/wgs84_pos#long\n",
      "http://xmlns.com/foaf/0.1/depiction\n",
      "http://xmlns.com/foaf/0.1/isPrimaryTopicOf\n",
      "http://www.w3.org/2003/01/geo/wgs84_pos#geometry\n",
      "http://dbpedia.org/ontology/thumbnail\n",
      "http://purl.org/dc/terms/subject\n",
      "http://dbpedia.org/ontology/wikiPageID\n",
      "http://dbpedia.org/ontology/wikiPageRevisionID\n",
      "http://dbpedia.org/ontology/wikiPageWikiLink\n",
      "http://dbpedia.org/ontology/wikiPageExternalLink\n",
      "http://www.w3.org/2002/07/owl#sameAs\n",
      "http://www.georss.org/georss/point\n",
      "http://dbpedia.org/property/wikiPageUsesTemplate\n",
      "http://dbpedia.org/ontology/areaLand\n",
      "http://dbpedia.org/property/align\n",
      "http://dbpedia.org/property/alt\n",
      "http://dbpedia.org/property/areaCode\n",
      "http://dbpedia.org/property/areaTotalKm\n",
      "http://dbpedia.org/property/b\n",
      "http://dbpedia.org/property/blank1Info\n",
      "http://dbpedia.org/property/blank1InfoSec\n",
      "http://dbpedia.org/property/blank1Name\n",
      "http://dbpedia.org/property/blank1NameSec\n",
      "http://dbpedia.org/property/blank2InfoSec\n",
      "http://dbpedia.org/property/blank2NameSec\n",
      "http://dbpedia.org/property/blankInfoSec\n",
      "http://dbpedia.org/property/blankName\n",
      "http://dbpedia.org/property/blankNameSec\n",
      "http://dbpedia.org/property/book\n",
      "http://dbpedia.org/property/caption\n",
      "http://dbpedia.org/property/colwidth\n",
      "http://dbpedia.org/property/commons\n",
      "http://dbpedia.org/property/d\n",
      "http://dbpedia.org/property/dSearch\n",
      "http://dbpedia.org/property/direction\n",
      "http://dbpedia.org/property/elevationFt\n",
      "http://dbpedia.org/property/elevationM\n",
      "http://dbpedia.org/property/establishedDate\n",
      "http://dbpedia.org/property/establishedTitle\n",
      "http://dbpedia.org/property/float\n",
      "http://dbpedia.org/property/footer\n",
      "http://dbpedia.org/property/governingBody\n",
      "http://dbpedia.org/property/governmentType\n",
      "http://dbpedia.org/property/header\n",
      "http://dbpedia.org/property/height\n",
      "http://dbpedia.org/property/image\n",
      "http://dbpedia.org/property/imageCaption\n",
      "http://dbpedia.org/property/imageFlag\n",
      "http://dbpedia.org/property/imageSeal\n",
      "http://dbpedia.org/property/leaderName\n",
      "http://dbpedia.org/property/leaderTitle\n",
      "http://dbpedia.org/property/mapCaption\n",
      "http://dbpedia.org/property/n\n",
      "http://dbpedia.org/property/nSearch\n",
      "http://dbpedia.org/property/nickname\n",
      "http://dbpedia.org/property/perrow\n",
      "http://dbpedia.org/property/popEstAsOf\n",
      "http://dbpedia.org/property/populationAsOf\n",
      "http://dbpedia.org/property/populationBlank\n",
      "http://dbpedia.org/property/populationBlank1Title\n",
      "http://dbpedia.org/property/populationBlank2Title\n",
      "http://dbpedia.org/property/populationDemonym\n",
      "http://dbpedia.org/property/populationDensityKm\n",
      "http://dbpedia.org/property/populationEst\n",
      "http://dbpedia.org/property/populationTotal\n",
      "http://dbpedia.org/property/portal\n",
      "http://dbpedia.org/property/postalCode\n",
      "http://dbpedia.org/property/postalCodeType\n",
      "http://dbpedia.org/property/pushpinLabel\n",
      "http://dbpedia.org/property/pushpinLabelPosition\n",
      "http://dbpedia.org/property/pushpinMap\n",
      "http://dbpedia.org/property/pushpinMapCaption\n",
      "http://dbpedia.org/property/pushpinMapsize\n",
      "http://dbpedia.org/property/pushpinRelief\n",
      "http://dbpedia.org/property/q\n",
      "http://dbpedia.org/property/rules\n",
      "http://dbpedia.org/property/s\n",
      "http://dbpedia.org/property/settlementType\n",
      "http://dbpedia.org/property/small\n",
      "http://dbpedia.org/property/subdivisionName\n",
      "http://dbpedia.org/property/subdivisionType\n",
      "http://dbpedia.org/property/timezone\n",
      "http://dbpedia.org/property/timezone1Dst\n",
      "http://dbpedia.org/property/title\n",
      "http://dbpedia.org/property/totalType\n",
      "http://dbpedia.org/property/totalWidth\n",
      "http://dbpedia.org/property/unitPref\n",
      "http://dbpedia.org/property/utcOffset\n",
      "http://dbpedia.org/property/v\n",
      "http://dbpedia.org/property/voy\n",
      "http://dbpedia.org/property/website\n",
      "http://dbpedia.org/property/width\n",
      "http://dbpedia.org/property/wikt\n",
      "http://dbpedia.org/property/years\n",
      "http://dbpedia.org/ontology/areaMetro\n",
      "http://dbpedia.org/ontology/areaWater\n",
      "http://dbpedia.org/property/areaLandKm\n",
      "http://dbpedia.org/property/areaLandSqMi\n",
      "http://dbpedia.org/property/areaMetroSqMi\n",
      "http://dbpedia.org/property/areaTotalSqMi\n",
      "http://dbpedia.org/property/areaWaterKm\n",
      "http://dbpedia.org/property/areaWaterSqMi\n",
      "http://dbpedia.org/property/backgroundColor\n",
      "http://dbpedia.org/property/blank2Info\n",
      "http://dbpedia.org/property/blank2Name\n",
      "http://dbpedia.org/property/blank4Info\n",
      "http://dbpedia.org/property/blank4Name\n",
      "http://dbpedia.org/property/blank5Info\n",
      "http://dbpedia.org/property/blank5Name\n",
      "http://dbpedia.org/property/blank6Info\n",
      "http://dbpedia.org/property/blank6Name\n",
      "http://dbpedia.org/property/blank7Info\n",
      "http://dbpedia.org/property/blank7Name\n",
      "http://dbpedia.org/property/blankEmblemType\n",
      "http://dbpedia.org/property/blankInfo\n",
      "http://dbpedia.org/property/imageBlankEmblem\n",
      "http://dbpedia.org/property/namedFor\n",
      "http://dbpedia.org/property/populationDensitySqMi\n",
      "http://dbpedia.org/ontology/abstract\n",
      "http://dbpedia.org/property/populationRank\n",
      "http://dbpedia.org/property/titlebar\n",
      "http://dbpedia.org/ontology/areaCode\n",
      "http://dbpedia.org/ontology/areaTotal\n",
      "http://dbpedia.org/ontology/demonym\n",
      "http://dbpedia.org/ontology/elevation\n",
      "http://dbpedia.org/ontology/populationDensity\n",
      "http://dbpedia.org/ontology/populationTotal\n",
      "http://dbpedia.org/ontology/populationTotalRanking\n",
      "http://dbpedia.org/ontology/postalCode\n",
      "http://dbpedia.org/ontology/utcOffset\n",
      "http://dbpedia.org/property/utcOffset1Dst\n",
      "http://dbpedia.org/ontology/country\n",
      "http://dbpedia.org/ontology/governingBody\n",
      "http://dbpedia.org/ontology/governmentType\n",
      "http://dbpedia.org/ontology/namedAfter\n",
      "http://dbpedia.org/ontology/politicalLeader\n",
      "http://dbpedia.org/ontology/subdivision\n",
      "http://dbpedia.org/ontology/timeZone\n",
      "http://dbpedia.org/ontology/type\n",
      "http://schema.org/sameAs\n",
      "http://www.w3.org/ns/prov#wasDerivedFrom\n",
      "http://dbpedia.org/ontology/PopulatedPlace/areaMetro\n",
      "http://dbpedia.org/ontology/PopulatedPlace/areaTotal\n",
      "http://dbpedia.org/ontology/PopulatedPlace/populationDensity\n",
      "http://dbpedia.org/ontology/wikiPageLength\n",
      "\n"
     ]
    }
   ],
   "source": [
    "uri_data_1 = 'dbr:New_York_City'\n",
    "print(describe_resource(uri_data_1))"
   ]
  },
  {
   "cell_type": "code",
   "execution_count": 8,
   "metadata": {
    "scrolled": true,
    "slideshow": {
     "slide_type": "notes"
    }
   },
   "outputs": [
    {
     "name": "stdout",
     "output_type": "stream",
     "text": [
      "all the types: \n",
      "http://www.w3.org/2002/07/owl#Thing\n",
      "http://dbpedia.org/ontology/Place\n",
      "http://dbpedia.org/ontology/Location\n",
      "http://www.w3.org/2003/01/geo/wgs84_pos#SpatialThing\n",
      "http://dbpedia.org/class/yago/Object100002684\n",
      "http://dbpedia.org/class/yago/PhysicalEntity100001930\n",
      "http://dbpedia.org/class/yago/Region108630985\n",
      "http://dbpedia.org/class/yago/YagoGeoEntity\n",
      "http://dbpedia.org/class/yago/YagoLegalActorGeo\n",
      "http://dbpedia.org/class/yago/YagoPermanentlyLocatedEntity\n",
      "http://dbpedia.org/class/yago/WikicatMemberStatesOfNATO\n",
      "http://dbpedia.org/class/yago/WikicatMemberStatesOfTheEuropeanUnion\n",
      "http://dbpedia.org/class/yago/WikicatMemberStatesOfTheUnionForTheMediterranean\n",
      "http://dbpedia.org/class/yago/WikicatMemberStatesOfTheUnitedNations\n",
      "http://dbpedia.org/class/yago/WikicatStatesAndTerritoriesEstablishedIn1871\n",
      "http://dbpedia.org/class/yago/WikicatStatesAndTerritoriesEstablishedIn1949\n",
      "http://schema.org/Place\n",
      "http://dbpedia.org/class/yago/WikicatCountries\n",
      "http://dbpedia.org/class/yago/WikicatCountriesInEurope\n",
      "http://dbpedia.org/class/yago/WikicatFederalCountries\n",
      "http://dbpedia.org/class/yago/WikicatGerman-speakingCountriesAndTerritories\n",
      "http://dbpedia.org/class/yago/WikicatGermanicCountriesAndTerritories\n",
      "http://schema.org/Country\n",
      "http://www.wikidata.org/entity/Q6256\n",
      "http://dbpedia.org/ontology/Country\n",
      "http://dbpedia.org/ontology/PopulatedPlace\n",
      "http://dbpedia.org/class/yago/AdministrativeDistrict108491826\n",
      "http://dbpedia.org/class/yago/Country108544813\n",
      "http://dbpedia.org/class/yago/District108552138\n",
      "http://dbpedia.org/class/yago/Location100027167\n",
      "http://umbel.org/umbel/rc/Country\n",
      "http://umbel.org/umbel/rc/Location_Underspecified\n",
      "http://umbel.org/umbel/rc/PopulatedPlace\n",
      "all the distinct properties: \n",
      "http://www.w3.org/1999/02/22-rdf-syntax-ns#type\n",
      "http://www.w3.org/2000/01/rdf-schema#label\n",
      "http://www.w3.org/2000/01/rdf-schema#comment\n",
      "http://xmlns.com/foaf/0.1/name\n",
      "http://xmlns.com/foaf/0.1/homepage\n",
      "http://www.w3.org/2004/02/skos/core#exactMatch\n",
      "http://www.w3.org/2003/01/geo/wgs84_pos#lat\n",
      "http://www.w3.org/2003/01/geo/wgs84_pos#long\n",
      "http://xmlns.com/foaf/0.1/depiction\n",
      "http://xmlns.com/foaf/0.1/isPrimaryTopicOf\n",
      "http://www.w3.org/2003/01/geo/wgs84_pos#geometry\n",
      "http://dbpedia.org/ontology/thumbnail\n",
      "http://purl.org/dc/terms/subject\n",
      "http://dbpedia.org/ontology/wikiPageID\n",
      "http://dbpedia.org/ontology/wikiPageRevisionID\n",
      "http://dbpedia.org/ontology/wikiPageWikiLink\n",
      "http://dbpedia.org/ontology/wikiPageExternalLink\n",
      "http://www.w3.org/2002/07/owl#sameAs\n",
      "http://www.georss.org/georss/point\n",
      "http://dbpedia.org/property/wikiPageUsesTemplate\n",
      "http://dbpedia.org/property/align\n",
      "http://dbpedia.org/property/caption\n",
      "http://dbpedia.org/property/demonym\n",
      "http://dbpedia.org/property/establishedDate\n",
      "http://dbpedia.org/property/governmentType\n",
      "http://dbpedia.org/property/image\n",
      "http://dbpedia.org/property/imageFlag\n",
      "http://dbpedia.org/property/languages\n",
      "http://dbpedia.org/property/leaderName\n",
      "http://dbpedia.org/property/leaderTitle\n",
      "http://dbpedia.org/property/mapWidth\n",
      "http://dbpedia.org/property/nativeName\n",
      "http://dbpedia.org/property/populationDensityKm\n",
      "http://dbpedia.org/property/title\n",
      "http://dbpedia.org/property/utcOffset\n",
      "http://dbpedia.org/property/utcOffsetDst\n",
      "http://dbpedia.org/property/width\n",
      "http://dbpedia.org/ontology/currencyCode\n",
      "http://dbpedia.org/property/currency\n",
      "http://dbpedia.org/property/areaKm\n",
      "http://dbpedia.org/property/areaSqMi\n",
      "http://dbpedia.org/property/capital\n",
      "http://dbpedia.org/property/cctld\n",
      "http://dbpedia.org/property/conventionalLongName\n",
      "http://dbpedia.org/property/currencyCode\n",
      "http://dbpedia.org/property/drivesOn\n",
      "http://dbpedia.org/property/establishedEvent\n",
      "http://dbpedia.org/property/gdpNominal\n",
      "http://dbpedia.org/property/gdpNominalPerCapita\n",
      "http://dbpedia.org/property/gdpNominalPerCapitaRank\n",
      "http://dbpedia.org/property/gdpNominalRank\n",
      "http://dbpedia.org/property/gdpNominalYear\n",
      "http://dbpedia.org/property/gdpPpp\n",
      "http://dbpedia.org/property/gdpPppPerCapita\n",
      "http://dbpedia.org/property/gdpPppPerCapitaRank\n",
      "http://dbpedia.org/property/gdpPppRank\n",
      "http://dbpedia.org/property/gdpPppYear\n",
      "http://dbpedia.org/property/gini\n",
      "http://dbpedia.org/property/giniChange\n",
      "http://dbpedia.org/property/giniYear\n",
      "http://dbpedia.org/property/hdi\n",
      "http://dbpedia.org/property/hdiChange\n",
      "http://dbpedia.org/property/hdiRank\n",
      "http://dbpedia.org/property/hdiYear\n",
      "http://dbpedia.org/property/imageCoat\n",
      "http://dbpedia.org/property/languagesType\n",
      "http://dbpedia.org/property/largestCity\n",
      "http://dbpedia.org/property/lowerHouse\n",
      "http://dbpedia.org/property/nationalAnthem\n",
      "http://dbpedia.org/property/percentWater\n",
      "http://dbpedia.org/property/populationDensityRank\n",
      "http://dbpedia.org/property/populationDensitySqMi\n",
      "http://dbpedia.org/property/populationEstimate\n",
      "http://dbpedia.org/property/populationEstimateRank\n",
      "http://dbpedia.org/property/populationEstimateYear\n",
      "http://dbpedia.org/ontology/abstract\n",
      "http://dbpedia.org/property/timeZone\n",
      "http://dbpedia.org/ontology/humanDevelopmentIndex\n",
      "http://dbpedia.org/property/areaRank\n",
      "http://dbpedia.org/property/commonName\n",
      "http://dbpedia.org/ontology/area\n",
      "http://dbpedia.org/ontology/demonym\n",
      "http://dbpedia.org/ontology/populationDensity\n",
      "http://dbpedia.org/ontology/populationTotal\n",
      "http://dbpedia.org/ontology/populationTotalRanking\n",
      "http://dbpedia.org/ontology/utcOffset\n",
      "http://dbpedia.org/property/sovereigntyType\n",
      "http://dbpedia.org/property/timeZoneDst\n",
      "http://dbpedia.org/property/upperHouse\n",
      "http://dbpedia.org/ontology/event\n",
      "http://dbpedia.org/ontology/governmentType\n",
      "http://dbpedia.org/ontology/language\n",
      "http://dbpedia.org/ontology/leaderFunction\n",
      "http://dbpedia.org/ontology/timeZone\n",
      "http://dbpedia.org/ontology/house\n",
      "http://schema.org/sameAs\n",
      "http://dbpedia.org/ontology/anthem\n",
      "http://dbpedia.org/ontology/capital\n",
      "http://dbpedia.org/ontology/currency\n",
      "http://dbpedia.org/ontology/topLevelDomain\n",
      "http://purl.org/dc/terms/isPartOf\n",
      "http://dbpedia.org/ontology/giniCoefficient\n",
      "http://www.w3.org/ns/prov#wasDerivedFrom\n",
      "http://dbpedia.org/ontology/PopulatedPlace/area\n",
      "http://dbpedia.org/ontology/PopulatedPlace/populationDensity\n",
      "http://dbpedia.org/ontology/wikiPageLength\n",
      "\n"
     ]
    }
   ],
   "source": [
    "uri_data_2 = 'http://dbpedia.org/resource/Germany'\n",
    "print(describe_resource(uri_data_2))"
   ]
  }
 ],
 "metadata": {
  "celltoolbar": "幻灯片",
  "kernelspec": {
   "display_name": "Python 3",
   "language": "python",
   "name": "python3"
  },
  "language_info": {
   "codemirror_mode": {
    "name": "ipython",
    "version": 3
   },
   "file_extension": ".py",
   "mimetype": "text/x-python",
   "name": "python",
   "nbconvert_exporter": "python",
   "pygments_lexer": "ipython3",
   "version": "3.9.4"
  },
  "toc": {
   "base_numbering": 1,
   "nav_menu": {},
   "number_sections": true,
   "sideBar": true,
   "skip_h1_title": false,
   "title_cell": "Table of Contents",
   "title_sidebar": "Contents",
   "toc_cell": false,
   "toc_position": {
    "height": "calc(100% - 180px)",
    "left": "10px",
    "top": "150px",
    "width": "235px"
   },
   "toc_section_display": true,
   "toc_window_display": true
  }
 },
 "nbformat": 4,
 "nbformat_minor": 2
}
